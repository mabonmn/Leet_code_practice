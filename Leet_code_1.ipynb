{
  "nbformat": 4,
  "nbformat_minor": 0,
  "metadata": {
    "colab": {
      "provenance": [],
      "authorship_tag": "ABX9TyM9kTSdHqyaj38jsYgoH4vj",
      "include_colab_link": true
    },
    "kernelspec": {
      "name": "python3",
      "display_name": "Python 3"
    },
    "language_info": {
      "name": "python"
    }
  },
  "cells": [
    {
      "cell_type": "markdown",
      "metadata": {
        "id": "view-in-github",
        "colab_type": "text"
      },
      "source": [
        "<a href=\"https://colab.research.google.com/github/mabonmn/Leet_code_practice/blob/main/Leet_code_1.ipynb\" target=\"_parent\"><img src=\"https://colab.research.google.com/assets/colab-badge.svg\" alt=\"Open In Colab\"/></a>"
      ]
    },
    {
      "cell_type": "code",
      "execution_count": 8,
      "metadata": {
        "id": "5nfIR1wn-by1"
      },
      "outputs": [],
      "source": [
        "class Solution(object):\n",
        "    def romanToInt(self, s):\n",
        "        \"\"\"\n",
        "        :type s: str\n",
        "        :rtype: int\n",
        "        \"\"\"\n",
        "        size=len(s)\n",
        "        sum=0\n",
        "        for i in range(size):\n",
        "            opp=1\n",
        "            if(i+1<size):\n",
        "                if(s[i]=='I' and (s[i+1]=='V' or s[i+1]=='X')):\n",
        "                  opp=-1\n",
        "                if(s[i]=='X' and (s[i+1]=='L' or s[i+1]=='C')):\n",
        "                  opp=-1\n",
        "                if(s[i]=='C' and (s[i+1]=='D' or s[i+1]=='M')):\n",
        "                  opp=-1     \n",
        "\n",
        "            if(s[i]=='I'):\n",
        "              sum=sum+(opp*1)\n",
        "            elif(s[i]=='V'):\n",
        "              sum=sum+(opp*5)\n",
        "            elif(s[i]=='X'):\n",
        "              sum=sum+(opp*10)\n",
        "            elif(s[i]=='L'):\n",
        "              sum=sum+(opp*50)       \n",
        "            elif(s[i]=='C'):\n",
        "              sum=sum+(opp*100)       \n",
        "            elif(s[i]=='D'):\n",
        "              sum=sum+(opp*500)    \n",
        "            elif(s[i]=='M'):\n",
        "              sum=sum+(opp*1000)          \n",
        "        return sum    "
      ]
    }
  ]
}