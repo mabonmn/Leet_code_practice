{
  "nbformat": 4,
  "nbformat_minor": 0,
  "metadata": {
    "colab": {
      "provenance": [],
      "collapsed_sections": [],
      "authorship_tag": "ABX9TyMYcsjGU2u9AG917euvGfL0",
      "include_colab_link": true
    },
    "kernelspec": {
      "name": "python3",
      "display_name": "Python 3"
    },
    "language_info": {
      "name": "python"
    }
  },
  "cells": [
    {
      "cell_type": "markdown",
      "metadata": {
        "id": "view-in-github",
        "colab_type": "text"
      },
      "source": [
        "<a href=\"https://colab.research.google.com/github/mabonmn/Leet_code_practice/blob/main/leet_code2.ipynb\" target=\"_parent\"><img src=\"https://colab.research.google.com/assets/colab-badge.svg\" alt=\"Open In Colab\"/></a>"
      ]
    },
    {
      "cell_type": "code",
      "execution_count": 2,
      "metadata": {
        "id": "OX4BRk0kCACL"
      },
      "outputs": [],
      "source": [
        "class Solution(object):\n",
        "    def maximumWealth(self, accounts):\n",
        "        \"\"\"\n",
        "        :type accounts: List[List[int]]\n",
        "        :rtype: int\n",
        "        \"\"\"\n",
        "        max=0\n",
        "        m=len(accounts)\n",
        "        for i in range(m):\n",
        "            n=len(accounts[i])\n",
        "            sum=0\n",
        "            for j in range(n):\n",
        "                sum=sum+accounts[i][j]\n",
        "            if (sum>max):\n",
        "                max=sum\n",
        "        return max"
      ]
    },
    {
      "cell_type": "code",
      "source": [
        "class Solution(object):\n",
        "    def maximumWealth(self, accounts):\n",
        "        \"\"\"\n",
        "        :type accounts: List[List[int]]\n",
        "        :rtype: int\n",
        "        \"\"\"\n",
        "        return max([sum(x) for x in accounts])"
      ],
      "metadata": {
        "id": "NXcTCr4dDm7Y"
      },
      "execution_count": null,
      "outputs": []
    }
  ]
}